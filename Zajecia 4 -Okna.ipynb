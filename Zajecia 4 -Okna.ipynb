{
 "cells": [
  {
   "cell_type": "code",
   "execution_count": 1,
   "metadata": {
    "scrolled": true
   },
   "outputs": [
    {
     "name": "stdout",
     "output_type": "stream",
     "text": [
      "Status: Optimal\n",
      "IlePartiAluminiowych = 2.0\n",
      "IlePartiDrewnianych = 6.0\n",
      "Zysk wyniesie 36000.0 zł  \n"
     ]
    },
    {
     "name": "stderr",
     "output_type": "stream",
     "text": [
      "C:\\Users\\tz\\anaconda3\\lib\\site-packages\\pulp\\pulp.py:1198: UserWarning: Spaces are not permitted in the name. Converted to '_'\n",
      "  warnings.warn(\"Spaces are not permitted in the name. Converted to '_'\")\n"
     ]
    }
   ],
   "source": [
    "#ALGORYTM OPTYMALIZACJI PRODUKCJI ZYSKU DLA FABRYK PRODUKUJĄCYCH OKNA \n",
    "\n",
    "# Import PuLP modeler functions\n",
    "import pulp \n",
    "from pulp import*\n",
    "# Create the 'prob' variable to contain the problem data\n",
    "prob = LpProblem(\"problem okienka\", LpMaximize)\n",
    "\n",
    "al=LpVariable(\"IlePartiAluminiowych\",0)\n",
    "dr=LpVariable(\"IlePartiDrewnianych\",0)\n",
    "                 \n",
    "prob += al*3000 + dr*5000, \"zysk\"\n",
    "    \n",
    "prob += al*1 + dr*0 <=4, \"fabryka 1\"\n",
    "prob += al*0 + dr*2 <=12, \"fabryka 2\"\n",
    "prob += al*3 + dr*2 <=18, \"fabryka 3\"\n",
    "                 \n",
    "prob.solve()\n",
    "print(\"Status:\", LpStatus[prob.status])\n",
    "                 \n",
    "for v in prob.variables():\n",
    "    print(v.name, \"=\", v.varValue)                 \n",
    "print(\"Zysk wyniesie {} zł  \".format( value(prob.objective)))                 "
   ]
  },
  {
   "cell_type": "code",
   "execution_count": 2,
   "metadata": {},
   "outputs": [
    {
     "data": {
      "application/vnd.jupyter.widget-view+json": {
       "model_id": "b3fc60d2268a42a380bc5aaea8f3c547",
       "version_major": 2,
       "version_minor": 0
      },
      "text/plain": [
       "interactive(children=(FloatSlider(value=3000.0, description='zysk_aluminiowe_slider', max=5000.0, style=Slider…"
      ]
     },
     "metadata": {},
     "output_type": "display_data"
    },
    {
     "data": {
      "text/plain": [
       "<function __main__.produkcja_okien(zysk_aluminiowe=3000, zysk_drewniane=5000, fabryka1_aluminiowe=1, fabryka2_aluminiowe=0, fabryka3_aluminiowe=3, fabryka1_drewniane=0, fabryka2_drewniane=2, fabryka3_drewniane=2, fabryka1_godziny=4, fabryka2_godziny=12, fabryka3_godziny=18)>"
      ]
     },
     "execution_count": 2,
     "metadata": {},
     "output_type": "execute_result"
    }
   ],
   "source": [
    "#ALGORYTM POZWALAJĄCY NA STEROWANIE WARTOŚCIĄ ZMIENNYCH W OPTYMALIZACJI ZYSKU DLA FABRYK PRODUKUJACYCH OKNA \n",
    "\n",
    "import pulp\n",
    "from __future__ import print_function\n",
    "from ipywidgets import interact, interactive, fixed, interact_manual, Layout, FloatSlider, IntSlider\n",
    "import ipywidgets as widgets\n",
    "import pandas as pd\n",
    "\n",
    "style = {'description_width': 'initial'}\n",
    "\n",
    "zysk_aluminiowe_slider = FloatSlider(min=0,max = 5000, value= 3000, description=\"zysk_aluminiowe_slider\", style= style )\n",
    "zysk_drewniane_slider = FloatSlider(min=0,max = 7000, value= 5000, description=\"zysk_drewniane_slider\", style= style )\n",
    "fabryka1_aluminiowe_slider = FloatSlider(min=0,max = 5, value= 1, description=\"fabryka1_aluminiowe_slider\", style= style )\n",
    "fabryka2_aluminiowe_slider = FloatSlider(min=0,max = 5, value= 0, description=\"fabryka2_aluminiowe_slider\", style= style )\n",
    "fabryka3_aluminiowe_slider = FloatSlider(min=0,max = 5, value= 3, description=\"fabryka3_aluminiowe_slider\", style= style )\n",
    "fabryka1_drewniane_slider = FloatSlider(min=0,max = 5, value= 0, description=\"fabryka1_drewniane_slider\", style= style )\n",
    "fabryka2_drewniane_slider = FloatSlider(min=0,max = 5, value= 2, description=\"fabryka2_drewniane_slider\", style= style )\n",
    "fabryka3_drewniane_slider = FloatSlider(min=0,max = 5, value= 2, description=\"fabryka3_drewniane_slider\", style= style )\n",
    "fabryka1_godziny_slider = FloatSlider(min=0,max = 20, value= 4, description=\"fabryka1_godziny_slider\", style= style )\n",
    "fabryka2_godziny_slider = FloatSlider(min=0,max = 20, value= 12, description=\"fabryka2_godziny_slider\", style= style )\n",
    "fabryka3_godziny_slider = FloatSlider(min=0,max = 20, value= 18, description=\"fabryka3_godziny_slider\", style= style )\n",
    "\n",
    "def produkcja_okien(zysk_aluminiowe=3000,\n",
    "    zysk_drewniane=5000,\n",
    "    fabryka1_aluminiowe=1,\n",
    "    fabryka2_aluminiowe=0,\n",
    "    fabryka3_aluminiowe=3,\n",
    "    fabryka1_drewniane=0,\n",
    "    fabryka2_drewniane=2,\n",
    "    fabryka3_drewniane=2,\n",
    "    fabryka1_godziny=4,\n",
    "    fabryka2_godziny=12,\n",
    "    fabryka3_godziny=18):\n",
    "    \n",
    "    prob = pulp.LpProblem(\"problem okienka\", pulp.LpMaximize)\n",
    "    \n",
    "    al=LpVariable(\"IlePartiAluminiowych\",0)\n",
    "    dr=LpVariable(\"IlePartiDrewnianych\",0)\n",
    "                 \n",
    "    prob += al*zysk_aluminiowe + dr*zysk_drewniane, \"zysk\"\n",
    "    \n",
    "    prob += al*fabryka1_aluminiowe + dr*fabryka1_drewniane <=fabryka1_godziny, \"fabryka 1\"\n",
    "    prob += al*fabryka2_aluminiowe + dr*fabryka2_drewniane <=fabryka2_godziny, \"fabryka 2\"\n",
    "    prob += al*fabryka3_aluminiowe + dr*fabryka3_drewniane <=fabryka3_godziny, \"fabryka 3\"\n",
    "    \n",
    "    prob.solve()\n",
    "    \n",
    "    print(\"Status:\", LpStatus[prob.status])\n",
    "    # Each of the variables is printed with it's resolved optimum value\n",
    "    for v in prob.variables():\n",
    "        print(v.name, \"=\", v.varValue)\n",
    "    print(\"Zysk wyniesie {} zł  \".format( value(prob.objective)))\n",
    "    \n",
    "    shadows = [{'name':name, 'shadow price': c.pi, \"slack\": c.slack} for name, c in prob.constraints.items()]\n",
    "    print(\"*\"*10+\"Shadow Prices\"+\"*\"*10)\n",
    "    print(pd.DataFrame(shadows))\n",
    "    \n",
    "interact(produkcja_okien,zysk_aluminiowe=zysk_aluminiowe_slider,\n",
    "        zysk_drewniane=zysk_drewniane_slider,\n",
    "        fabryka1_aluminiowe=fabryka1_aluminiowe_slider,\n",
    "        fabryka2_aluminiowe=fabryka2_aluminiowe_slider,\n",
    "        fabryka3_aluminiowe=fabryka3_aluminiowe_slider,\n",
    "        fabryka1_drewniane=fabryka1_drewniane_slider,\n",
    "        fabryka2_drewniane=fabryka2_drewniane_slider,\n",
    "        fabryka3_drewniane=fabryka3_drewniane_slider,\n",
    "        fabryka1_godziny=fabryka1_godziny_slider,\n",
    "        fabryka2_godziny=fabryka2_godziny_slider,\n",
    "        fabryka3_godziny=fabryka3_godziny_slider)\n",
    "\n",
    "\n",
    "\n"
   ]
  },
  {
   "cell_type": "code",
   "execution_count": null,
   "metadata": {},
   "outputs": [],
   "source": [
    "  \n",
    "\n",
    "\n"
   ]
  },
  {
   "cell_type": "code",
   "execution_count": null,
   "metadata": {},
   "outputs": [],
   "source": []
  },
  {
   "cell_type": "code",
   "execution_count": null,
   "metadata": {},
   "outputs": [],
   "source": []
  },
  {
   "cell_type": "code",
   "execution_count": null,
   "metadata": {},
   "outputs": [],
   "source": []
  }
 ],
 "metadata": {
  "kernelspec": {
   "display_name": "Python 3",
   "language": "python",
   "name": "python3"
  },
  "language_info": {
   "codemirror_mode": {
    "name": "ipython",
    "version": 3
   },
   "file_extension": ".py",
   "mimetype": "text/x-python",
   "name": "python",
   "nbconvert_exporter": "python",
   "pygments_lexer": "ipython3",
   "version": "3.8.3"
  }
 },
 "nbformat": 4,
 "nbformat_minor": 4
}
